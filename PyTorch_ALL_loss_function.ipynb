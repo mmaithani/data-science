{
  "nbformat": 4,
  "nbformat_minor": 0,
  "metadata": {
    "colab": {
      "name": "PyTorch loss function.ipynb",
      "provenance": [],
      "authorship_tag": "ABX9TyN2ls8i+TU1RtdfYx0hlKp3",
      "include_colab_link": true
    },
    "kernelspec": {
      "name": "python3",
      "display_name": "Python 3"
    }
  },
  "cells": [
    {
      "cell_type": "markdown",
      "metadata": {
        "id": "view-in-github",
        "colab_type": "text"
      },
      "source": [
        "<a href=\"https://colab.research.google.com/github/mmaithani/data-science/blob/main/PyTorch_ALL_loss_function.ipynb\" target=\"_parent\"><img src=\"https://colab.research.google.com/assets/colab-badge.svg\" alt=\"Open In Colab\"/></a>"
      ]
    },
    {
      "cell_type": "markdown",
      "metadata": {
        "id": "E6FUMb7jjKID"
      },
      "source": [
        "# PyTorch loss functions\r\n",
        "[reference1](https://neptune.ai/blog/pytorch-loss-functions)\r\n",
        "[reference2](https://towardsdatascience.com/understanding-pytorch-loss-functions-the-maths-and-algorithms-part-1-6e439b27117e)"
      ]
    },
    {
      "cell_type": "markdown",
      "metadata": {
        "id": "r3SUVFgDXUzn"
      },
      "source": [
        "##  Mean Absolute Error (L1 Loss)\r\n"
      ]
    },
    {
      "cell_type": "markdown",
      "metadata": {
        "id": "HLdeIDMTaMja"
      },
      "source": [
        "### Algorthmic way of find loss\r\n",
        "### without pytorch module "
      ]
    },
    {
      "cell_type": "code",
      "metadata": {
        "colab": {
          "base_uri": "https://localhost:8080/"
        },
        "id": "H_IA8ZaKaRLk",
        "outputId": "50618a35-02a2-4335-a4e8-db77cddb66d1"
      },
      "source": [
        "import numpy as np\r\n",
        "y_pred = np.array([0.000, 0.100, 0.200])\r\n",
        "y_true = np.array([0.000, 0.200, 0.250])\r\n",
        "# Defining Mean Absolute Error loss function\r\n",
        "def mae(pred, true):\r\n",
        "    # Find absolute difference\r\n",
        "    differences = pred - true\r\n",
        "    absolute_differences = np.absolute(differences)\r\n",
        "    # find the absoute mean\r\n",
        "    mean_absolute_error = absolute_differences.mean()\r\n",
        "    return mean_absolute_error\r\n",
        "mae_value = mae(y_pred, y_true)\r\n",
        "print (\"MAE error is: \" + str(mae_value))"
      ],
      "execution_count": 50,
      "outputs": [
        {
          "output_type": "stream",
          "text": [
            "MAE error is: 0.049999999999999996\n"
          ],
          "name": "stdout"
        }
      ]
    },
    {
      "cell_type": "markdown",
      "metadata": {
        "id": "U8PmW9F8aTlx"
      },
      "source": [
        "### with pytirch module"
      ]
    },
    {
      "cell_type": "code",
      "metadata": {
        "id": "0l45I7YOaRtc"
      },
      "source": [
        "mae_loss = nn.L1Loss()"
      ],
      "execution_count": null,
      "outputs": []
    },
    {
      "cell_type": "code",
      "metadata": {
        "colab": {
          "base_uri": "https://localhost:8080/"
        },
        "id": "8hFmTQetaqpx",
        "outputId": "f3e52cd9-c8a6-416e-be0e-d13864be361b"
      },
      "source": [
        "import torch\r\n",
        "mae_loss = torch.nn.L1Loss()\r\n",
        "input = torch.tensor(y_pred)\r\n",
        "target = torch.tensor(y_true)\r\n",
        "output = mae_loss(input, target)\r\n",
        "print(output)"
      ],
      "execution_count": 19,
      "outputs": [
        {
          "output_type": "stream",
          "text": [
            "tensor(0.0500, dtype=torch.float64)\n"
          ],
          "name": "stdout"
        }
      ]
    },
    {
      "cell_type": "markdown",
      "metadata": {
        "id": "hswYi06WXY_Y"
      },
      "source": [
        "##  Mean-Squared Error (L2 Loss)\r\n",
        "*italicized text*"
      ]
    },
    {
      "cell_type": "code",
      "metadata": {
        "colab": {
          "base_uri": "https://localhost:8080/"
        },
        "id": "o8b2cA7uZ65T",
        "outputId": "006589e3-0756-4c59-d556-32be32522a40"
      },
      "source": [
        "input = torch.randn(3, 4, requires_grad=True)\r\n",
        "target = torch.randn(3, 4)\r\n",
        "\r\n",
        "mse_loss = nn.MSELoss()\r\n",
        "\r\n",
        "output = mse_loss(input, target)\r\n",
        "output.backward()\r\n",
        "\r\n",
        "print('input -: ', input)\r\n",
        "print('target -: ', target)\r\n",
        "print('output -: ', output)"
      ],
      "execution_count": 20,
      "outputs": [
        {
          "output_type": "stream",
          "text": [
            "input -:  tensor([[ 1.1619, -2.0543,  1.0791,  0.2690],\n",
            "        [-1.7409, -0.0396,  1.5357,  0.8317],\n",
            "        [-0.7868,  0.2881,  0.1680, -2.2173]], requires_grad=True)\n",
            "target -:  tensor([[ 0.8714, -0.4702, -0.2782, -0.4928],\n",
            "        [ 0.4812, -0.0574,  1.7735,  0.6338],\n",
            "        [-0.4336,  1.4518, -1.5495, -0.6904]])\n",
            "output -:  tensor(1.4009, grad_fn=<MseLossBackward>)\n"
          ],
          "name": "stdout"
        }
      ]
    },
    {
      "cell_type": "markdown",
      "metadata": {
        "id": "GjwtuBsEXZTh"
      },
      "source": [
        "##  Binary Cross Entropy\r\n"
      ]
    },
    {
      "cell_type": "markdown",
      "metadata": {
        "id": "yw35tlCZfy66"
      },
      "source": [
        "### algorithm"
      ]
    },
    {
      "cell_type": "code",
      "metadata": {
        "colab": {
          "base_uri": "https://localhost:8080/"
        },
        "id": "fb6Ev6VMffV-",
        "outputId": "ca174acf-cc7d-4be0-f7cd-d00a8a912068"
      },
      "source": [
        "import numpy as np\r\n",
        "y_pred = np.array([0.1580, 0.4137, 0.2285])\r\n",
        "y_true = np.array([0.0, 1.0, 0.0]) #2 labels: (0,1)\r\n",
        "def BCE(y_pred, y_true):\r\n",
        "    total_bce_loss = np.sum(-y_true * np.log(y_pred) - (1 - y_true) * np.log(1 - y_pred))\r\n",
        "    # Getting the mean BCE loss\r\n",
        "    num_of_samples = y_pred.shape[0]\r\n",
        "    mean_bce_loss = total_bce_loss / num_of_samples\r\n",
        "    \r\n",
        "    return mean_bce_loss\r\n",
        "\r\n",
        "bce_value = BCE(y_pred, y_true)\r\n",
        "print (\"BCE error is: \" + str(bce_value))"
      ],
      "execution_count": 32,
      "outputs": [
        {
          "output_type": "stream",
          "text": [
            "BCE error is: 0.43800269247783435\n"
          ],
          "name": "stdout"
        }
      ]
    },
    {
      "cell_type": "markdown",
      "metadata": {
        "id": "g8QbY_A0f1e2"
      },
      "source": [
        "### pytorch implemenation"
      ]
    },
    {
      "cell_type": "code",
      "metadata": {
        "colab": {
          "base_uri": "https://localhost:8080/"
        },
        "id": "HxylWO3Bf48h",
        "outputId": "01817914-0403-48d8-bde2-cdc6a084f273"
      },
      "source": [
        "bce_loss = torch.nn.BCELoss()\r\n",
        "sigmoid = torch.nn.Sigmoid() # Ensuring inputs are between 0 and 1\r\n",
        "input = torch.tensor(y_pred)\r\n",
        "target = torch.tensor(y_true)\r\n",
        "output = bce_loss(input, target)\r\n",
        "output"
      ],
      "execution_count": 37,
      "outputs": [
        {
          "output_type": "execute_result",
          "data": {
            "text/plain": [
              "tensor(0.4380, dtype=torch.float64)"
            ]
          },
          "metadata": {
            "tags": []
          },
          "execution_count": 37
        }
      ]
    },
    {
      "cell_type": "markdown",
      "metadata": {
        "id": "i1lc02NDYZOs"
      },
      "source": [
        "## Negative Log-Likelihood Loss\r\n"
      ]
    },
    {
      "cell_type": "code",
      "metadata": {
        "colab": {
          "base_uri": "https://localhost:8080/"
        },
        "id": "HpPl1N89fI4Y",
        "outputId": "c747da08-6857-45f7-c43c-df97d9d0da44"
      },
      "source": [
        "input = torch.randn(3, 5, requires_grad=True)\r\n",
        "# every element in target should have value(0 <= value < C)\r\n",
        "target = torch.tensor([1, 0, 4])\r\n",
        "\r\n",
        "m = nn.LogSoftmax(dim=1)\r\n",
        "nll_loss = nn.NLLLoss()\r\n",
        "output = nll_loss(m(input), target)\r\n",
        "output.backward()\r\n",
        "\r\n",
        "print('input -: ', input)\r\n",
        "print('target -: ', target)\r\n",
        "print('output -: ', output)"
      ],
      "execution_count": 38,
      "outputs": [
        {
          "output_type": "stream",
          "text": [
            "input -:  tensor([[-0.3998,  2.5459,  2.0591,  1.0049,  0.3083],\n",
            "        [ 0.7276,  0.1679,  0.0694, -0.4694, -0.5898],\n",
            "        [-0.6252, -0.8939, -1.1183, -0.8719,  0.1156]], requires_grad=True)\n",
            "target -:  tensor([1, 0, 4])\n",
            "output -:  tensor(0.8611, grad_fn=<NllLossBackward>)\n"
          ],
          "name": "stdout"
        }
      ]
    },
    {
      "cell_type": "markdown",
      "metadata": {
        "id": "gXZXFzi5YgJM"
      },
      "source": [
        "##Cross-Entropy Loss\r\n",
        " "
      ]
    },
    {
      "cell_type": "code",
      "metadata": {
        "colab": {
          "base_uri": "https://localhost:8080/"
        },
        "id": "2mYMGOXthk8p",
        "outputId": "e33ec5e6-6d85-42c8-a43b-8e060969111b"
      },
      "source": [
        "input = torch.randn(3, 5, requires_grad=True)\r\n",
        "target = torch.empty(3, dtype=torch.long).random_(5)\r\n",
        "\r\n",
        "cross_entropy_loss = nn.CrossEntropyLoss()\r\n",
        "output = cross_entropy_loss(input, target)\r\n",
        "output.backward()\r\n",
        "\r\n",
        "print('input: ', input)\r\n",
        "print('target: ', target)\r\n",
        "print('output: ', output)"
      ],
      "execution_count": 39,
      "outputs": [
        {
          "output_type": "stream",
          "text": [
            "input:  tensor([[-0.0873,  0.2695, -1.0779,  0.2443, -1.2279],\n",
            "        [ 0.5567,  0.3258,  0.3356,  0.4241, -0.9079],\n",
            "        [-0.6800,  0.3731, -0.3557,  0.7839,  0.8058]], requires_grad=True)\n",
            "target:  tensor([4, 2, 2])\n",
            "output:  tensor(2.1639, grad_fn=<NllLossBackward>)\n"
          ],
          "name": "stdout"
        }
      ]
    },
    {
      "cell_type": "markdown",
      "metadata": {
        "id": "O9dASCuufNvP"
      },
      "source": [
        "## Hinge Embedding Loss\r\n"
      ]
    },
    {
      "cell_type": "code",
      "metadata": {
        "colab": {
          "base_uri": "https://localhost:8080/"
        },
        "id": "xfStGspphvwy",
        "outputId": "4a8ce470-0688-4fea-ee49-0b9a9749700a"
      },
      "source": [
        "input = torch.randn(3, 5, requires_grad=True)\r\n",
        "target = torch.randn(3, 5)\r\n",
        "\r\n",
        "hinge_loss = nn.HingeEmbeddingLoss()\r\n",
        "output = hinge_loss(input, target)\r\n",
        "output.backward()\r\n",
        "\r\n",
        "print('input -: ', input)\r\n",
        "print('target -: ', target)\r\n",
        "print('output -: ', output)"
      ],
      "execution_count": 42,
      "outputs": [
        {
          "output_type": "stream",
          "text": [
            "input -:  tensor([[ 0.7387, -0.3632, -0.9038,  0.8583, -0.3724],\n",
            "        [ 0.1367, -0.5990, -0.6288, -0.1092, -1.6801],\n",
            "        [ 0.3843,  0.0901, -1.3474, -1.0471,  1.2579]], requires_grad=True)\n",
            "target -:  tensor([[ 0.0659, -0.0695, -0.0055,  1.4541, -0.6346],\n",
            "        [ 1.7301, -1.3945, -0.9082, -2.0155,  0.5129],\n",
            "        [-3.1528, -0.8972, -1.1135, -1.6087,  1.5804]])\n",
            "output -:  tensor(1.0172, grad_fn=<MeanBackward0>)\n"
          ],
          "name": "stdout"
        }
      ]
    },
    {
      "cell_type": "markdown",
      "metadata": {
        "id": "tKJ72jDeYonF"
      },
      "source": [
        "##Margin Ranking Loss\r\n",
        "\r\n",
        "\r\n",
        "```\r\n",
        "torch.nn.MarginRankingLoss\r\n",
        "```\r\n",
        "\r\n"
      ]
    },
    {
      "cell_type": "code",
      "metadata": {
        "colab": {
          "base_uri": "https://localhost:8080/"
        },
        "id": "JyN0cc1GiEZE",
        "outputId": "9aafa862-9a9f-4deb-ae24-7d7410f0cf48"
      },
      "source": [
        "first_input = torch.randn(3, requires_grad=True)\r\n",
        "Second_input = torch.randn(3, requires_grad=True)\r\n",
        "target = torch.randn(3).sign()\r\n",
        "\r\n",
        "ranking_loss = nn.MarginRankingLoss()\r\n",
        "output = ranking_loss(first_input, Second_input, target)\r\n",
        "output.backward()\r\n",
        "\r\n",
        "print('input one: ', first_input)\r\n",
        "print('input two: ', Second_input)\r\n",
        "print('target: ', target)\r\n",
        "print('output: ', output)"
      ],
      "execution_count": 43,
      "outputs": [
        {
          "output_type": "stream",
          "text": [
            "input one:  tensor([-0.9101, -0.1720,  0.3739], requires_grad=True)\n",
            "input two:  tensor([-0.1041,  1.8790,  0.6346], requires_grad=True)\n",
            "target:  tensor([ 1.,  1., -1.])\n",
            "output:  tensor(0.9523, grad_fn=<MeanBackward0>)\n"
          ],
          "name": "stdout"
        }
      ]
    },
    {
      "cell_type": "markdown",
      "metadata": {
        "id": "c0--iv1UidaY"
      },
      "source": [
        "## Triplet Margin Loss Function"
      ]
    },
    {
      "cell_type": "code",
      "metadata": {
        "colab": {
          "base_uri": "https://localhost:8080/"
        },
        "id": "H-VV1XSNihPT",
        "outputId": "04d0f6f2-20b0-450a-880c-4019ac1211ee"
      },
      "source": [
        "anchor = torch.randn(100, 128, requires_grad=True)\r\n",
        "positive = torch.randn(100, 128, requires_grad=True)\r\n",
        "negative = torch.randn(100, 128, requires_grad=True)\r\n",
        "\r\n",
        "triplet_margin_loss = nn.TripletMarginLoss(margin=1.0, p=2)\r\n",
        "output = triplet_margin_loss(anchor, positive, negative)\r\n",
        "output.backward()\r\n",
        "\r\n",
        "print('anchors -: ', anchor)\r\n",
        "print('positive -: ', positive)\r\n",
        "print('negative -: ', negative)\r\n",
        "print('output -: ', output)"
      ],
      "execution_count": 44,
      "outputs": [
        {
          "output_type": "stream",
          "text": [
            "anchors -:  tensor([[ 2.2149, -0.4624,  0.1297,  ..., -0.9314,  0.6589, -1.0044],\n",
            "        [ 0.5554, -0.5520,  0.1106,  ...,  1.6740,  0.1103, -0.2415],\n",
            "        [ 0.8692, -0.6139, -0.0073,  ...,  1.3570,  0.4758,  1.3609],\n",
            "        ...,\n",
            "        [-0.8563, -0.9356,  0.4538,  ...,  0.4140,  0.6785, -0.5354],\n",
            "        [-0.7295, -0.3626,  1.8515,  ...,  0.2087, -1.0304, -0.4069],\n",
            "        [ 0.9843, -0.5925,  0.8998,  ..., -0.4079, -0.2412, -1.1588]],\n",
            "       requires_grad=True)\n",
            "positive -:  tensor([[-0.0955,  0.8232,  1.8161,  ...,  0.6107,  0.6104,  0.0668],\n",
            "        [ 0.2414, -0.1431,  0.9935,  ..., -0.8267, -1.6068,  0.4890],\n",
            "        [ 1.6151,  0.0211,  0.6835,  ...,  0.4580,  0.6620,  1.1240],\n",
            "        ...,\n",
            "        [-0.7226,  1.2047, -0.8483,  ...,  1.7136,  0.4394, -0.5176],\n",
            "        [-0.4288,  0.2157,  0.6404,  ..., -1.4232, -0.1568,  0.9827],\n",
            "        [-1.5980, -0.7540, -0.6185,  ..., -0.6710, -0.1606,  0.6274]],\n",
            "       requires_grad=True)\n",
            "negative -:  tensor([[-0.5671,  1.0394, -1.9852,  ...,  0.3935,  0.2195, -0.0899],\n",
            "        [-0.9655, -0.0856,  0.3572,  ...,  0.1853, -0.1454,  0.6056],\n",
            "        [ 0.9698,  0.8990,  0.0716,  ...,  1.7177,  1.0162, -0.3807],\n",
            "        ...,\n",
            "        [ 0.3375, -1.4678, -1.3988,  ...,  0.8750,  0.2375,  0.6745],\n",
            "        [ 0.2241,  0.0142,  1.2166,  ..., -0.3842,  0.1596,  1.4880],\n",
            "        [-1.1877,  0.9875, -0.0813,  ...,  0.3107,  0.3279, -0.4012]],\n",
            "       requires_grad=True)\n",
            "output -:  tensor(1.1650, grad_fn=<MeanBackward0>)\n"
          ],
          "name": "stdout"
        }
      ]
    },
    {
      "cell_type": "markdown",
      "metadata": {
        "id": "6KX_8Ym8YjJl"
      },
      "source": [
        "##Kullback-Leibler divergence\r\n"
      ]
    },
    {
      "cell_type": "code",
      "metadata": {
        "colab": {
          "base_uri": "https://localhost:8080/"
        },
        "id": "RpnNQ0TpXHLz",
        "outputId": "bbba9b76-0018-4b68-de74-04a292e19215"
      },
      "source": [
        "input = torch.randn(2, 3, requires_grad=True)\r\n",
        "target = torch.randn(2, 3)\r\n",
        "\r\n",
        "kld_loss = nn.KLDivLoss(reduction = 'batchmean')\r\n",
        "output = kld_loss(input, target)\r\n",
        "output.backward()\r\n",
        "\r\n",
        "print('input tensor: ', input)\r\n",
        "print('target tensor: ', target)\r\n",
        "print('Loss: ', output)"
      ],
      "execution_count": 48,
      "outputs": [
        {
          "output_type": "stream",
          "text": [
            "input tensor:  tensor([[-0.6098, -1.2917,  0.0380],\n",
            "        [ 0.3440,  0.7980,  0.1073]], requires_grad=True)\n",
            "target tensor:  tensor([[-1.9751,  0.1022, -0.1736],\n",
            "        [-0.3326, -0.1292, -1.2224]])\n",
            "Loss:  tensor(-0.0505, grad_fn=<DivBackward0>)\n"
          ],
          "name": "stdout"
        }
      ]
    },
    {
      "cell_type": "code",
      "metadata": {
        "id": "3zfpYHGjjHqP"
      },
      "source": [
        ""
      ],
      "execution_count": null,
      "outputs": []
    }
  ]
}