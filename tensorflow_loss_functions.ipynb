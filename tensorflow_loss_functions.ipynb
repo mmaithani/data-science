{
  "nbformat": 4,
  "nbformat_minor": 0,
  "metadata": {
    "colab": {
      "name": "tensorflow loss functions.ipynb",
      "private_outputs": true,
      "provenance": [],
      "authorship_tag": "ABX9TyNLSgjabc3HKkXkv87+BH7k",
      "include_colab_link": true
    },
    "kernelspec": {
      "name": "python3",
      "display_name": "Python 3"
    }
  },
  "cells": [
    {
      "cell_type": "markdown",
      "metadata": {
        "id": "view-in-github",
        "colab_type": "text"
      },
      "source": [
        "<a href=\"https://colab.research.google.com/github/mmaithani/data-science/blob/main/tensorflow_loss_functions.ipynb\" target=\"_parent\"><img src=\"https://colab.research.google.com/assets/colab-badge.svg\" alt=\"Open In Colab\"/></a>"
      ]
    },
    {
      "cell_type": "markdown",
      "metadata": {
        "id": "7N7Vk0mNkCMK"
      },
      "source": [
        "# Tensorflow Loss Functions\r\n",
        "``tf.keras.losses\r\n",
        "``\r\n",
        "\r\n"
      ]
    },
    {
      "cell_type": "markdown",
      "metadata": {
        "id": "uH36BC0BlxpQ"
      },
      "source": [
        ""
      ]
    },
    {
      "cell_type": "markdown",
      "metadata": {
        "id": "Pg20dnZYjxlp"
      },
      "source": [
        "## BinaryCrossentropy loss\r\n",
        "```\r\n",
        "tf.keras.losses.BinaryCrossentropy\r\n",
        "```\r\n",
        "\r\n"
      ]
    },
    {
      "cell_type": "code",
      "metadata": {
        "id": "9YS__A9kkepM"
      },
      "source": [
        "import tensorflow as tf\r\n",
        "import numpy as np"
      ],
      "execution_count": null,
      "outputs": []
    },
    {
      "cell_type": "code",
      "metadata": {
        "id": "eW83N_wxjmgw"
      },
      "source": [
        "y_true = [[0., 1.], [0., 0.]]\r\n",
        "y_pred = [[0.5, 0.4], [0.4, 0.5]]\r\n",
        "\r\n",
        "# Using 'auto'/'sum_over_batch_size' reduction type\r\n",
        "bce_loss = tf.keras.losses.BinaryCrossentropy()\r\n",
        "bce_loss(y_true, y_pred).numpy()"
      ],
      "execution_count": null,
      "outputs": []
    },
    {
      "cell_type": "code",
      "metadata": {
        "id": "dZL5sAiRlGXf"
      },
      "source": [
        "# Calling with 'sample_weight'.\r\n",
        "bce_loss(y_true, y_pred, sample_weight=[1, 0]).numpy()"
      ],
      "execution_count": null,
      "outputs": []
    },
    {
      "cell_type": "markdown",
      "metadata": {
        "id": "ilNm02z9lBkh"
      },
      "source": [
        "## CategoricalCrossentropy loss\r\n",
        "`tf.keras.losses.CategoricalCrossentropy`"
      ]
    },
    {
      "cell_type": "code",
      "metadata": {
        "id": "yGwl2wyqkhtC"
      },
      "source": [
        "# inputs\r\n",
        "y_true = [[0, 1, 0], [0, 0, 1]]\r\n",
        "y_pred = [[0.05, 0.95, 0], [0.1, 0.8, 0.1]]\r\n",
        "\r\n",
        "# Using 'auto'/'sum_over_batch_size' reduction type.\r\n",
        "cce_loss = tf.keras.losses.CategoricalCrossentropy()\r\n",
        "cce_loss(y_true, y_pred).numpy()\r\n"
      ],
      "execution_count": null,
      "outputs": []
    },
    {
      "cell_type": "markdown",
      "metadata": {
        "id": "sm8Bmm7Bt9Eo"
      },
      "source": [
        "## sparse_categorical_crossentropy\r\n",
        "```\r\n",
        "tf.keras.losses.sparse_categorical_crossentropy\r\n",
        "```"
      ]
    },
    {
      "cell_type": "code",
      "metadata": {
        "id": "gfPX_yNMtOAI"
      },
      "source": [
        "y_true = [1, 2]\r\n",
        "y_pred = [[0.05, 0.95, 0], [0.1, 0.8, 0.1]]\r\n",
        "loss = tf.keras.losses.sparse_categorical_crossentropy(y_true, y_pred)\r\n",
        "assert loss.shape == (2,)\r\n",
        "loss.numpy()\r\n"
      ],
      "execution_count": null,
      "outputs": []
    },
    {
      "cell_type": "markdown",
      "metadata": {
        "id": "ix3NZRmfm5LJ"
      },
      "source": [
        "## Hinge loss\r\n",
        "```\r\n",
        "tf.keras.losses.Hinge\r\n",
        "```\r\n",
        "\r\n"
      ]
    },
    {
      "cell_type": "code",
      "metadata": {
        "id": "qd3FprohmvXg"
      },
      "source": [
        "y_true = [[0., 1.], [0., 0.]]\r\n",
        "y_pred = [[0.5, 0.4], [0.4, 0.5]]\r\n",
        "\r\n",
        "# Using 'auto'/'sum_over_batch_size' reduction type.\r\n",
        "h_loss = tf.keras.losses.Hinge()\r\n",
        "h_loss(y_true, y_pred).numpy()"
      ],
      "execution_count": null,
      "outputs": []
    },
    {
      "cell_type": "markdown",
      "metadata": {
        "id": "aADWZmvzmPfk"
      },
      "source": [
        "## CategoricalHinge loss\r\n",
        "```\r\n",
        "tf.keras.losses.CategoricalHinge\r\n",
        "```\r\n",
        "\r\n"
      ]
    },
    {
      "cell_type": "code",
      "metadata": {
        "id": "0Q07huIFmD46"
      },
      "source": [
        "y_true = [[0, 1], [0, 0]]\r\n",
        "y_pred = [[0.5, 0.4], [0.4, 0.5]]\r\n",
        "\r\n",
        "# Using 'auto'/'sum_over_batch_size' reduction type.\r\n",
        "h = tf.keras.losses.CategoricalHinge()\r\n",
        "h(y_true, y_pred).numpy()"
      ],
      "execution_count": null,
      "outputs": []
    },
    {
      "cell_type": "markdown",
      "metadata": {
        "id": "RjPmk_C4mnWW"
      },
      "source": [
        "## CosineSimilarity loss\r\n",
        "```\r\n",
        "tf.keras.losses.CosineSimilarity\r\n",
        "```\r\n",
        "\r\n"
      ]
    },
    {
      "cell_type": "code",
      "metadata": {
        "id": "svq-ZnO4miIF"
      },
      "source": [
        "y_true = [[0., 1.], [1., 1.]]\r\n",
        "y_pred = [[1., 0.], [1., 1.]]\r\n",
        "\r\n",
        "# Using 'auto'/'sum_over_batch_size' reduction type.\r\n",
        "cosine_loss = tf.keras.losses.CosineSimilarity(axis=1)\r\n",
        "cosine_loss(y_true, y_pred).numpy()"
      ],
      "execution_count": null,
      "outputs": []
    },
    {
      "cell_type": "markdown",
      "metadata": {
        "id": "cWtUns91nZm2"
      },
      "source": [
        "## Huber loss\r\n",
        "```\r\n",
        "tf.keras.losses.Huber\r\n",
        "```\r\n",
        "\r\n"
      ]
    },
    {
      "cell_type": "code",
      "metadata": {
        "id": "Pa_sP8BZnQ_E"
      },
      "source": [
        "y_true = [[0, 1], [0, 0]]\r\n",
        "y_pred = [[0.5, 0.4], [0.4, 0.5]]\r\n",
        "\r\n",
        "# Using 'auto'/'sum_over_batch_size' reduction type.\r\n",
        "hub_loss = tf.keras.losses.Huber()\r\n",
        "h_loss(y_true, y_pred).numpy()\r\n"
      ],
      "execution_count": null,
      "outputs": []
    },
    {
      "cell_type": "markdown",
      "metadata": {
        "id": "q5niJ1uJrdul"
      },
      "source": [
        "## KLDivergence loss\r\n"
      ]
    },
    {
      "cell_type": "code",
      "metadata": {
        "id": "7iR4uKkmrb-5"
      },
      "source": [
        "y_true = [[0, 1], [0, 0]]\r\n",
        "y_pred = [[0.6, 0.4], [0.4, 0.6]]\r\n",
        "# Using 'auto'/'sum_over_batch_size' reduction type.\r\n",
        "kl = tf.keras.losses.KLDivergence()\r\n",
        "kl(y_true, y_pred).numpy()\r\n"
      ],
      "execution_count": null,
      "outputs": []
    },
    {
      "cell_type": "markdown",
      "metadata": {
        "id": "50cj6TdiryNK"
      },
      "source": [
        "## LogCosh loss"
      ]
    },
    {
      "cell_type": "code",
      "metadata": {
        "id": "wPFg0Jpin42Y"
      },
      "source": [
        "y_true = [[0., 1.], [0., 0.]]\r\n",
        "y_pred = [[1., 1.], [0., 0.]]\r\n",
        "\r\n",
        "# Using 'auto'/'sum_over_batch_size' reduction type.\r\n",
        "l = tf.keras.losses.LogCosh()\r\n",
        "l(y_true, y_pred).numpy()\r\n"
      ],
      "execution_count": null,
      "outputs": []
    },
    {
      "cell_type": "markdown",
      "metadata": {
        "id": "uiNAvFCmsGx4"
      },
      "source": [
        "## MeanAbsoluteError"
      ]
    },
    {
      "cell_type": "code",
      "metadata": {
        "id": "Ns5T_b6RsTY5"
      },
      "source": [
        "y_true = [[0., 1.], [0., 0.]]\r\n",
        "y_pred = [[1., 1.], [1., 0.]]\r\n",
        "# Using 'auto'/'sum_over_batch_size' reduction type.\r\n",
        "mae = tf.keras.losses.MeanAbsoluteError()\r\n",
        "mae(y_true, y_pred).numpy()"
      ],
      "execution_count": null,
      "outputs": []
    },
    {
      "cell_type": "markdown",
      "metadata": {
        "id": "zuGLdWj6skb6"
      },
      "source": [
        "## MeanAbsolutePercentageError"
      ]
    },
    {
      "cell_type": "code",
      "metadata": {
        "id": "A0hYJEdhsT7E"
      },
      "source": [
        "y_true = [[2., 1.], [2., 3.]]\r\n",
        "y_pred = [[1., 1.], [1., 0.]]\r\n",
        "# Using 'auto'/'sum_over_batch_size' reduction type.\r\n",
        "mape = tf.keras.losses.MeanAbsolutePercentageError()\r\n",
        "mape(y_true, y_pred).numpy()\r\n"
      ],
      "execution_count": null,
      "outputs": []
    },
    {
      "cell_type": "markdown",
      "metadata": {
        "id": "pR0kzNoJsomp"
      },
      "source": [
        "## MeanSquaredError"
      ]
    },
    {
      "cell_type": "code",
      "metadata": {
        "id": "kf8AwSF4smO6"
      },
      "source": [
        "y_true = [[0., 1.], [0., 0.]]\r\n",
        "y_pred = [[1., 1.], [1., 0.]]\r\n",
        "# Using 'auto'/'sum_over_batch_size' reduction type.\r\n",
        "mse = tf.keras.losses.MeanSquaredError()\r\n",
        "mse(y_true, y_pred).numpy()\r\n"
      ],
      "execution_count": null,
      "outputs": []
    },
    {
      "cell_type": "markdown",
      "metadata": {
        "id": "b4DxdB1Ust0m"
      },
      "source": [
        "## MeanSquaredLogarithmicError"
      ]
    },
    {
      "cell_type": "code",
      "metadata": {
        "id": "ALRKo6c6sqgb"
      },
      "source": [
        "y_true = [[0., 1.], [0., 0.]]\r\n",
        "y_pred = [[1., 1.], [1., 0.]]\r\n",
        "# Using 'auto'/'sum_over_batch_size' reduction type.\r\n",
        "msle = tf.keras.losses.MeanSquaredLogarithmicError()\r\n",
        "msle(y_true, y_pred).numpy()"
      ],
      "execution_count": null,
      "outputs": []
    },
    {
      "cell_type": "markdown",
      "metadata": {
        "id": "6dlnf5G-s4G_"
      },
      "source": [
        "## poisson loss"
      ]
    },
    {
      "cell_type": "code",
      "metadata": {
        "id": "0lQ4ijw6svri"
      },
      "source": [
        "y_true = [[0., 1.], [0., 0.]]\r\n",
        "y_pred = [[1., 1.], [0., 0.]]\r\n",
        "# Using 'auto'/'sum_over_batch_size' reduction type.\r\n",
        "p = tf.keras.losses.Poisson()\r\n",
        "p(y_true, y_pred).numpy()\r\n"
      ],
      "execution_count": null,
      "outputs": []
    }
  ]
}