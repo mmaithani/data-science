{
  "nbformat": 4,
  "nbformat_minor": 0,
  "metadata": {
    "colab": {
      "name": "tensorflow loss functions.ipynb",
      "provenance": [],
      "authorship_tag": "ABX9TyPBys4OT7sp+yLL2KRM6zXO",
      "include_colab_link": true
    },
    "kernelspec": {
      "name": "python3",
      "display_name": "Python 3"
    }
  },
  "cells": [
    {
      "cell_type": "markdown",
      "metadata": {
        "id": "view-in-github",
        "colab_type": "text"
      },
      "source": [
        "<a href=\"https://colab.research.google.com/github/mmaithani/data-science/blob/main/tensorflow_loss_functions.ipynb\" target=\"_parent\"><img src=\"https://colab.research.google.com/assets/colab-badge.svg\" alt=\"Open In Colab\"/></a>"
      ]
    },
    {
      "cell_type": "markdown",
      "metadata": {
        "id": "7N7Vk0mNkCMK"
      },
      "source": [
        "# Tensorflow Loss Functions\r\n",
        "``tf.keras.losses\r\n",
        "``\r\n",
        "\r\n"
      ]
    },
    {
      "cell_type": "markdown",
      "metadata": {
        "id": "-rPpBG79vObS"
      },
      "source": [
        ""
      ]
    },
    {
      "cell_type": "markdown",
      "metadata": {
        "id": "uH36BC0BlxpQ"
      },
      "source": [
        ""
      ]
    },
    {
      "cell_type": "markdown",
      "metadata": {
        "id": "Pg20dnZYjxlp"
      },
      "source": [
        "## BinaryCrossentropy loss\r\n",
        "```\r\n",
        "tf.keras.losses.BinaryCrossentropy\r\n",
        "```\r\n",
        "\r\n"
      ]
    },
    {
      "cell_type": "code",
      "metadata": {
        "id": "9YS__A9kkepM"
      },
      "source": [
        "import tensorflow as tf\r\n",
        "import numpy as np"
      ],
      "execution_count": 37,
      "outputs": []
    },
    {
      "cell_type": "code",
      "metadata": {
        "colab": {
          "base_uri": "https://localhost:8080/"
        },
        "id": "eW83N_wxjmgw",
        "outputId": "baa06414-16d9-4694-8e68-bdd3dfb51d27"
      },
      "source": [
        "y_true = [[0., 1.], [0., 0.]]\r\n",
        "y_pred = [[0.5, 0.4], [0.4, 0.5]]\r\n",
        "\r\n",
        "# Using 'auto'/'sum_over_batch_size' reduction type\r\n",
        "bce_loss = tf.keras.losses.BinaryCrossentropy()\r\n",
        "bce_loss(y_true, y_pred).numpy()"
      ],
      "execution_count": 38,
      "outputs": [
        {
          "output_type": "execute_result",
          "data": {
            "text/plain": [
              "0.70335245"
            ]
          },
          "metadata": {
            "tags": []
          },
          "execution_count": 38
        }
      ]
    },
    {
      "cell_type": "code",
      "metadata": {
        "colab": {
          "base_uri": "https://localhost:8080/"
        },
        "id": "dZL5sAiRlGXf",
        "outputId": "97e47c1d-e203-4b4c-a493-3fa0a2a4fc1c"
      },
      "source": [
        "# Calling with 'sample_weight'.\r\n",
        "bce_loss(y_true, y_pred, sample_weight=[1, 0]).numpy()"
      ],
      "execution_count": 39,
      "outputs": [
        {
          "output_type": "execute_result",
          "data": {
            "text/plain": [
              "0.40235937"
            ]
          },
          "metadata": {
            "tags": []
          },
          "execution_count": 39
        }
      ]
    },
    {
      "cell_type": "markdown",
      "metadata": {
        "id": "ilNm02z9lBkh"
      },
      "source": [
        "## CategoricalCrossentropy loss\r\n",
        "`tf.keras.losses.CategoricalCrossentropy`"
      ]
    },
    {
      "cell_type": "code",
      "metadata": {
        "colab": {
          "base_uri": "https://localhost:8080/"
        },
        "id": "yGwl2wyqkhtC",
        "outputId": "23cbf49c-efa7-4884-cac0-8a0d1ee9f325"
      },
      "source": [
        "# inputs\r\n",
        "y_true = [[0, 1, 0], [0, 0, 1]]\r\n",
        "y_pred = [[0.05, 0.95, 0], [0.1, 0.8, 0.1]]\r\n",
        "\r\n",
        "# Using 'auto'/'sum_over_batch_size' reduction type.\r\n",
        "cce_loss = tf.keras.losses.CategoricalCrossentropy()\r\n",
        "cce_loss(y_true, y_pred).numpy()\r\n"
      ],
      "execution_count": 40,
      "outputs": [
        {
          "output_type": "execute_result",
          "data": {
            "text/plain": [
              "1.1769392"
            ]
          },
          "metadata": {
            "tags": []
          },
          "execution_count": 40
        }
      ]
    },
    {
      "cell_type": "markdown",
      "metadata": {
        "id": "sm8Bmm7Bt9Eo"
      },
      "source": [
        "## sparse_categorical_crossentropy\r\n",
        "```\r\n",
        "tf.keras.losses.sparse_categorical_crossentropy\r\n",
        "```"
      ]
    },
    {
      "cell_type": "code",
      "metadata": {
        "colab": {
          "base_uri": "https://localhost:8080/"
        },
        "id": "gfPX_yNMtOAI",
        "outputId": "ad1e0e53-dafa-410e-db17-b8a836fdb7a6"
      },
      "source": [
        "y_true = [1, 2]\r\n",
        "y_pred = [[0.05, 0.95, 0], [0.1, 0.8, 0.1]]\r\n",
        "loss = tf.keras.losses.sparse_categorical_crossentropy(y_true, y_pred)\r\n",
        "assert loss.shape == (2,)\r\n",
        "loss.numpy()\r\n"
      ],
      "execution_count": 41,
      "outputs": [
        {
          "output_type": "execute_result",
          "data": {
            "text/plain": [
              "array([0.05129344, 2.3025851 ], dtype=float32)"
            ]
          },
          "metadata": {
            "tags": []
          },
          "execution_count": 41
        }
      ]
    },
    {
      "cell_type": "markdown",
      "metadata": {
        "id": "ix3NZRmfm5LJ"
      },
      "source": [
        "## Hinge loss\r\n",
        "```\r\n",
        "tf.keras.losses.Hinge\r\n",
        "```\r\n",
        "\r\n"
      ]
    },
    {
      "cell_type": "code",
      "metadata": {
        "colab": {
          "base_uri": "https://localhost:8080/"
        },
        "id": "qd3FprohmvXg",
        "outputId": "a37f20b1-9ce9-4ed0-d95f-2dc9dd48d815"
      },
      "source": [
        "y_true = [[0., 1.], [0., 0.]]\r\n",
        "y_pred = [[0.5, 0.4], [0.4, 0.5]]\r\n",
        "\r\n",
        "# Using 'auto'/'sum_over_batch_size' reduction type.\r\n",
        "h_loss = tf.keras.losses.Hinge()\r\n",
        "h_loss(y_true, y_pred).numpy()"
      ],
      "execution_count": 42,
      "outputs": [
        {
          "output_type": "execute_result",
          "data": {
            "text/plain": [
              "1.25"
            ]
          },
          "metadata": {
            "tags": []
          },
          "execution_count": 42
        }
      ]
    },
    {
      "cell_type": "markdown",
      "metadata": {
        "id": "aADWZmvzmPfk"
      },
      "source": [
        "## CategoricalHinge loss\r\n",
        "```\r\n",
        "tf.keras.losses.CategoricalHinge\r\n",
        "```\r\n",
        "\r\n"
      ]
    },
    {
      "cell_type": "code",
      "metadata": {
        "colab": {
          "base_uri": "https://localhost:8080/"
        },
        "id": "0Q07huIFmD46",
        "outputId": "d4141e7a-b3ae-4032-ac0a-d0d181333842"
      },
      "source": [
        "y_true = [[0, 1], [0, 0]]\r\n",
        "y_pred = [[0.5, 0.4], [0.4, 0.5]]\r\n",
        "\r\n",
        "# Using 'auto'/'sum_over_batch_size' reduction type.\r\n",
        "h = tf.keras.losses.CategoricalHinge()\r\n",
        "h(y_true, y_pred).numpy()"
      ],
      "execution_count": 43,
      "outputs": [
        {
          "output_type": "execute_result",
          "data": {
            "text/plain": [
              "1.3"
            ]
          },
          "metadata": {
            "tags": []
          },
          "execution_count": 43
        }
      ]
    },
    {
      "cell_type": "markdown",
      "metadata": {
        "id": "RjPmk_C4mnWW"
      },
      "source": [
        "## CosineSimilarity loss\r\n",
        "```\r\n",
        "tf.keras.losses.CosineSimilarity\r\n",
        "```\r\n",
        "\r\n"
      ]
    },
    {
      "cell_type": "code",
      "metadata": {
        "colab": {
          "base_uri": "https://localhost:8080/"
        },
        "id": "svq-ZnO4miIF",
        "outputId": "bd88b656-48df-42c0-c938-8a9b5340abd1"
      },
      "source": [
        "y_true = [[0., 1.], [1., 1.]]\r\n",
        "y_pred = [[1., 0.], [1., 1.]]\r\n",
        "\r\n",
        "# Using 'auto'/'sum_over_batch_size' reduction type.\r\n",
        "cosine_loss = tf.keras.losses.CosineSimilarity(axis=1)\r\n",
        "cosine_loss(y_true, y_pred).numpy()"
      ],
      "execution_count": 44,
      "outputs": [
        {
          "output_type": "execute_result",
          "data": {
            "text/plain": [
              "-0.49999997"
            ]
          },
          "metadata": {
            "tags": []
          },
          "execution_count": 44
        }
      ]
    },
    {
      "cell_type": "markdown",
      "metadata": {
        "id": "cWtUns91nZm2"
      },
      "source": [
        "## Huber loss\r\n",
        "```\r\n",
        "tf.keras.losses.Huber\r\n",
        "```\r\n",
        "\r\n"
      ]
    },
    {
      "cell_type": "code",
      "metadata": {
        "colab": {
          "base_uri": "https://localhost:8080/"
        },
        "id": "Pa_sP8BZnQ_E",
        "outputId": "8a45983d-db18-4707-e43a-207fec94a23d"
      },
      "source": [
        "y_true = [[0, 1], [0, 0]]\r\n",
        "y_pred = [[0.5, 0.4], [0.4, 0.5]]\r\n",
        "\r\n",
        "# Using 'auto'/'sum_over_batch_size' reduction type.\r\n",
        "hub_loss = tf.keras.losses.Huber()\r\n",
        "h_loss(y_true, y_pred).numpy()\r\n"
      ],
      "execution_count": 45,
      "outputs": [
        {
          "output_type": "execute_result",
          "data": {
            "text/plain": [
              "1.25"
            ]
          },
          "metadata": {
            "tags": []
          },
          "execution_count": 45
        }
      ]
    },
    {
      "cell_type": "markdown",
      "metadata": {
        "id": "q5niJ1uJrdul"
      },
      "source": [
        "## KLDivergence loss\r\n"
      ]
    },
    {
      "cell_type": "code",
      "metadata": {
        "colab": {
          "base_uri": "https://localhost:8080/"
        },
        "id": "7iR4uKkmrb-5",
        "outputId": "095f8a60-3e7a-433f-e232-e58bec0ec7f4"
      },
      "source": [
        "y_true = [[0, 1], [0, 0]]\r\n",
        "y_pred = [[0.6, 0.4], [0.4, 0.6]]\r\n",
        "# Using 'auto'/'sum_over_batch_size' reduction type.\r\n",
        "kl = tf.keras.losses.KLDivergence()\r\n",
        "kl(y_true, y_pred).numpy()\r\n"
      ],
      "execution_count": 46,
      "outputs": [
        {
          "output_type": "execute_result",
          "data": {
            "text/plain": [
              "0.45814306"
            ]
          },
          "metadata": {
            "tags": []
          },
          "execution_count": 46
        }
      ]
    },
    {
      "cell_type": "markdown",
      "metadata": {
        "id": "50cj6TdiryNK"
      },
      "source": [
        "## LogCosh loss"
      ]
    },
    {
      "cell_type": "code",
      "metadata": {
        "colab": {
          "base_uri": "https://localhost:8080/"
        },
        "id": "wPFg0Jpin42Y",
        "outputId": "414eae21-0651-49c8-d383-e9f0cb9887e7"
      },
      "source": [
        "y_true = [[0., 1.], [0., 0.]]\r\n",
        "y_pred = [[1., 1.], [0., 0.]]\r\n",
        "\r\n",
        "# Using 'auto'/'sum_over_batch_size' reduction type.\r\n",
        "l = tf.keras.losses.LogCosh()\r\n",
        "l(y_true, y_pred).numpy()\r\n"
      ],
      "execution_count": 47,
      "outputs": [
        {
          "output_type": "execute_result",
          "data": {
            "text/plain": [
              "0.1084452"
            ]
          },
          "metadata": {
            "tags": []
          },
          "execution_count": 47
        }
      ]
    },
    {
      "cell_type": "markdown",
      "metadata": {
        "id": "uiNAvFCmsGx4"
      },
      "source": [
        "## MeanAbsoluteError"
      ]
    },
    {
      "cell_type": "code",
      "metadata": {
        "colab": {
          "base_uri": "https://localhost:8080/"
        },
        "id": "Ns5T_b6RsTY5",
        "outputId": "9ac9e5d8-a454-4e48-8179-a7b2da3f1c5b"
      },
      "source": [
        "y_true = [[0., 1.], [0., 0.]]\r\n",
        "y_pred = [[1., 1.], [1., 0.]]\r\n",
        "# Using 'auto'/'sum_over_batch_size' reduction type.\r\n",
        "mae = tf.keras.losses.MeanAbsoluteError()\r\n",
        "mae(y_true, y_pred).numpy()"
      ],
      "execution_count": 48,
      "outputs": [
        {
          "output_type": "execute_result",
          "data": {
            "text/plain": [
              "0.5"
            ]
          },
          "metadata": {
            "tags": []
          },
          "execution_count": 48
        }
      ]
    },
    {
      "cell_type": "markdown",
      "metadata": {
        "id": "zuGLdWj6skb6"
      },
      "source": [
        "## MeanAbsolutePercentageError"
      ]
    },
    {
      "cell_type": "code",
      "metadata": {
        "colab": {
          "base_uri": "https://localhost:8080/"
        },
        "id": "A0hYJEdhsT7E",
        "outputId": "79542d06-d808-4c55-872c-0a69910a2330"
      },
      "source": [
        "y_true = [[2., 1.], [2., 3.]]\r\n",
        "y_pred = [[1., 1.], [1., 0.]]\r\n",
        "# Using 'auto'/'sum_over_batch_size' reduction type.\r\n",
        "mape = tf.keras.losses.MeanAbsolutePercentageError()\r\n",
        "mape(y_true, y_pred).numpy()\r\n"
      ],
      "execution_count": 49,
      "outputs": [
        {
          "output_type": "execute_result",
          "data": {
            "text/plain": [
              "50.0"
            ]
          },
          "metadata": {
            "tags": []
          },
          "execution_count": 49
        }
      ]
    },
    {
      "cell_type": "markdown",
      "metadata": {
        "id": "pR0kzNoJsomp"
      },
      "source": [
        "## MeanSquaredError"
      ]
    },
    {
      "cell_type": "code",
      "metadata": {
        "colab": {
          "base_uri": "https://localhost:8080/"
        },
        "id": "kf8AwSF4smO6",
        "outputId": "17e8ee0b-7809-488b-a590-ad43933d448b"
      },
      "source": [
        "y_true = [[0., 1.], [0., 0.]]\r\n",
        "y_pred = [[1., 1.], [1., 0.]]\r\n",
        "# Using 'auto'/'sum_over_batch_size' reduction type.\r\n",
        "mse = tf.keras.losses.MeanSquaredError()\r\n",
        "mse(y_true, y_pred).numpy()\r\n"
      ],
      "execution_count": 50,
      "outputs": [
        {
          "output_type": "execute_result",
          "data": {
            "text/plain": [
              "0.5"
            ]
          },
          "metadata": {
            "tags": []
          },
          "execution_count": 50
        }
      ]
    },
    {
      "cell_type": "markdown",
      "metadata": {
        "id": "b4DxdB1Ust0m"
      },
      "source": [
        "## MeanSquaredLogarithmicError"
      ]
    },
    {
      "cell_type": "code",
      "metadata": {
        "colab": {
          "base_uri": "https://localhost:8080/"
        },
        "id": "ALRKo6c6sqgb",
        "outputId": "5362430d-74cf-434d-9f57-5b68072cc3ba"
      },
      "source": [
        "y_true = [[0., 1.], [0., 0.]]\r\n",
        "y_pred = [[1., 1.], [1., 0.]]\r\n",
        "# Using 'auto'/'sum_over_batch_size' reduction type.\r\n",
        "msle = tf.keras.losses.MeanSquaredLogarithmicError()\r\n",
        "msle(y_true, y_pred).numpy()"
      ],
      "execution_count": 51,
      "outputs": [
        {
          "output_type": "execute_result",
          "data": {
            "text/plain": [
              "0.24022643"
            ]
          },
          "metadata": {
            "tags": []
          },
          "execution_count": 51
        }
      ]
    },
    {
      "cell_type": "markdown",
      "metadata": {
        "id": "6dlnf5G-s4G_"
      },
      "source": [
        "## poisson loss"
      ]
    },
    {
      "cell_type": "code",
      "metadata": {
        "colab": {
          "base_uri": "https://localhost:8080/"
        },
        "id": "0lQ4ijw6svri",
        "outputId": "0dff8fe8-bad2-4665-b5a6-b8879c1ebb38"
      },
      "source": [
        "y_true = [[0., 1.], [0., 0.]]\r\n",
        "y_pred = [[1., 1.], [0., 0.]]\r\n",
        "# Using 'auto'/'sum_over_batch_size' reduction type.\r\n",
        "p = tf.keras.losses.Poisson()\r\n",
        "p(y_true, y_pred).numpy()\r\n"
      ],
      "execution_count": 52,
      "outputs": [
        {
          "output_type": "execute_result",
          "data": {
            "text/plain": [
              "0.49999997"
            ]
          },
          "metadata": {
            "tags": []
          },
          "execution_count": 52
        }
      ]
    }
  ]
}