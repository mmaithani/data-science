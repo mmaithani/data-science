{
  "nbformat": 4,
  "nbformat_minor": 0,
  "metadata": {
    "colab": {
      "name": "PyTorch-ts time series forecasting(gluonts).ipynb",
      "provenance": [],
      "authorship_tag": "ABX9TyNsJ6L3eNGqQqGKIupo8kON",
      "include_colab_link": true
    },
    "kernelspec": {
      "name": "python3",
      "display_name": "Python 3"
    },
    "accelerator": "GPU"
  },
  "cells": [
    {
      "cell_type": "markdown",
      "metadata": {
        "id": "view-in-github",
        "colab_type": "text"
      },
      "source": [
        "<a href=\"https://colab.research.google.com/github/mmaithani/data-science/blob/main/PyTorch_ts_time_series_forecasting(gluonts).ipynb\" target=\"_parent\"><img src=\"https://colab.research.google.com/assets/colab-badge.svg\" alt=\"Open In Colab\"/></a>"
      ]
    },
    {
      "cell_type": "code",
      "metadata": {
        "colab": {
          "base_uri": "https://localhost:8080/",
          "height": 1000
        },
        "id": "cqQAiYfhk2Ic",
        "outputId": "d81fd16a-a8b2-4e16-acea-1c65603bd491"
      },
      "source": [
        "pip install pytorchts"
      ],
      "execution_count": 2,
      "outputs": [
        {
          "output_type": "stream",
          "text": [
            "Collecting pytorchts\n",
            "\u001b[?25l  Downloading https://files.pythonhosted.org/packages/37/90/4a1fb6661806b4d706d5c7d2a7abea8867d55b819d80132179e95ba27a8d/pytorchts-0.2.0.tar.gz (124kB)\n",
            "\u001b[K     |████████████████████████████████| 133kB 6.7MB/s \n",
            "\u001b[?25hRequirement already satisfied: torch>=1.5.0 in /usr/local/lib/python3.6/dist-packages (from pytorchts) (1.7.0+cu101)\n",
            "Requirement already satisfied: holidays in /usr/local/lib/python3.6/dist-packages (from pytorchts) (0.10.4)\n",
            "Requirement already satisfied: numpy in /usr/local/lib/python3.6/dist-packages (from pytorchts) (1.19.4)\n",
            "Collecting pandas<1.1,>=1.0\n",
            "\u001b[?25l  Downloading https://files.pythonhosted.org/packages/c0/95/cb9820560a2713384ef49060b0087dfa2591c6db6f240215c2bce1f4211c/pandas-1.0.5-cp36-cp36m-manylinux1_x86_64.whl (10.1MB)\n",
            "\u001b[K     |████████████████████████████████| 10.1MB 15.7MB/s \n",
            "\u001b[?25hRequirement already satisfied: scipy in /usr/local/lib/python3.6/dist-packages (from pytorchts) (1.4.1)\n",
            "Requirement already satisfied: tqdm in /usr/local/lib/python3.6/dist-packages (from pytorchts) (4.41.1)\n",
            "Collecting pydantic\n",
            "\u001b[?25l  Downloading https://files.pythonhosted.org/packages/52/ea/fae9f69b6e56407961318e8c73e203097a97c7bd71b30bf1b4f5eb448f28/pydantic-1.7.3-cp36-cp36m-manylinux2014_x86_64.whl (9.2MB)\n",
            "\u001b[K     |████████████████████████████████| 9.2MB 17.8MB/s \n",
            "\u001b[?25hRequirement already satisfied: matplotlib in /usr/local/lib/python3.6/dist-packages (from pytorchts) (3.2.2)\n",
            "Collecting python-rapidjson\n",
            "\u001b[?25l  Downloading https://files.pythonhosted.org/packages/a0/8f/50488049033aba6943659d7906a45947ea5b510b74e7d44ab9d7457e1710/python_rapidjson-1.0-cp36-cp36m-manylinux2010_x86_64.whl (1.4MB)\n",
            "\u001b[K     |████████████████████████████████| 1.4MB 51.4MB/s \n",
            "\u001b[?25hRequirement already satisfied: tensorboard in /usr/local/lib/python3.6/dist-packages (from pytorchts) (2.4.0)\n",
            "Requirement already satisfied: future in /usr/local/lib/python3.6/dist-packages (from torch>=1.5.0->pytorchts) (0.16.0)\n",
            "Requirement already satisfied: typing-extensions in /usr/local/lib/python3.6/dist-packages (from torch>=1.5.0->pytorchts) (3.7.4.3)\n",
            "Requirement already satisfied: dataclasses in /usr/local/lib/python3.6/dist-packages (from torch>=1.5.0->pytorchts) (0.8)\n",
            "Requirement already satisfied: convertdate<=2.2.0 in /usr/local/lib/python3.6/dist-packages (from holidays->pytorchts) (2.2.0)\n",
            "Requirement already satisfied: python-dateutil in /usr/local/lib/python3.6/dist-packages (from holidays->pytorchts) (2.8.1)\n",
            "Requirement already satisfied: korean-lunar-calendar in /usr/local/lib/python3.6/dist-packages (from holidays->pytorchts) (0.2.1)\n",
            "Requirement already satisfied: six in /usr/local/lib/python3.6/dist-packages (from holidays->pytorchts) (1.15.0)\n",
            "Requirement already satisfied: pytz>=2017.2 in /usr/local/lib/python3.6/dist-packages (from pandas<1.1,>=1.0->pytorchts) (2018.9)\n",
            "Requirement already satisfied: cycler>=0.10 in /usr/local/lib/python3.6/dist-packages (from matplotlib->pytorchts) (0.10.0)\n",
            "Requirement already satisfied: pyparsing!=2.0.4,!=2.1.2,!=2.1.6,>=2.0.1 in /usr/local/lib/python3.6/dist-packages (from matplotlib->pytorchts) (2.4.7)\n",
            "Requirement already satisfied: kiwisolver>=1.0.1 in /usr/local/lib/python3.6/dist-packages (from matplotlib->pytorchts) (1.3.1)\n",
            "Requirement already satisfied: wheel>=0.26; python_version >= \"3\" in /usr/local/lib/python3.6/dist-packages (from tensorboard->pytorchts) (0.36.2)\n",
            "Requirement already satisfied: google-auth-oauthlib<0.5,>=0.4.1 in /usr/local/lib/python3.6/dist-packages (from tensorboard->pytorchts) (0.4.2)\n",
            "Requirement already satisfied: requests<3,>=2.21.0 in /usr/local/lib/python3.6/dist-packages (from tensorboard->pytorchts) (2.23.0)\n",
            "Requirement already satisfied: markdown>=2.6.8 in /usr/local/lib/python3.6/dist-packages (from tensorboard->pytorchts) (3.3.3)\n",
            "Requirement already satisfied: setuptools>=41.0.0 in /usr/local/lib/python3.6/dist-packages (from tensorboard->pytorchts) (51.0.0)\n",
            "Requirement already satisfied: grpcio>=1.24.3 in /usr/local/lib/python3.6/dist-packages (from tensorboard->pytorchts) (1.32.0)\n",
            "Requirement already satisfied: google-auth<2,>=1.6.3 in /usr/local/lib/python3.6/dist-packages (from tensorboard->pytorchts) (1.17.2)\n",
            "Requirement already satisfied: protobuf>=3.6.0 in /usr/local/lib/python3.6/dist-packages (from tensorboard->pytorchts) (3.12.4)\n",
            "Requirement already satisfied: tensorboard-plugin-wit>=1.6.0 in /usr/local/lib/python3.6/dist-packages (from tensorboard->pytorchts) (1.7.0)\n",
            "Requirement already satisfied: werkzeug>=0.11.15 in /usr/local/lib/python3.6/dist-packages (from tensorboard->pytorchts) (1.0.1)\n",
            "Requirement already satisfied: absl-py>=0.4 in /usr/local/lib/python3.6/dist-packages (from tensorboard->pytorchts) (0.10.0)\n",
            "Requirement already satisfied: pymeeus<=1,>=0.3.6 in /usr/local/lib/python3.6/dist-packages (from convertdate<=2.2.0->holidays->pytorchts) (0.3.7)\n",
            "Requirement already satisfied: requests-oauthlib>=0.7.0 in /usr/local/lib/python3.6/dist-packages (from google-auth-oauthlib<0.5,>=0.4.1->tensorboard->pytorchts) (1.3.0)\n",
            "Requirement already satisfied: certifi>=2017.4.17 in /usr/local/lib/python3.6/dist-packages (from requests<3,>=2.21.0->tensorboard->pytorchts) (2020.12.5)\n",
            "Requirement already satisfied: idna<3,>=2.5 in /usr/local/lib/python3.6/dist-packages (from requests<3,>=2.21.0->tensorboard->pytorchts) (2.10)\n",
            "Requirement already satisfied: chardet<4,>=3.0.2 in /usr/local/lib/python3.6/dist-packages (from requests<3,>=2.21.0->tensorboard->pytorchts) (3.0.4)\n",
            "Requirement already satisfied: urllib3!=1.25.0,!=1.25.1,<1.26,>=1.21.1 in /usr/local/lib/python3.6/dist-packages (from requests<3,>=2.21.0->tensorboard->pytorchts) (1.24.3)\n",
            "Requirement already satisfied: importlib-metadata; python_version < \"3.8\" in /usr/local/lib/python3.6/dist-packages (from markdown>=2.6.8->tensorboard->pytorchts) (3.3.0)\n",
            "Requirement already satisfied: pyasn1-modules>=0.2.1 in /usr/local/lib/python3.6/dist-packages (from google-auth<2,>=1.6.3->tensorboard->pytorchts) (0.2.8)\n",
            "Requirement already satisfied: rsa<5,>=3.1.4; python_version >= \"3\" in /usr/local/lib/python3.6/dist-packages (from google-auth<2,>=1.6.3->tensorboard->pytorchts) (4.6)\n",
            "Requirement already satisfied: cachetools<5.0,>=2.0.0 in /usr/local/lib/python3.6/dist-packages (from google-auth<2,>=1.6.3->tensorboard->pytorchts) (4.2.0)\n",
            "Requirement already satisfied: oauthlib>=3.0.0 in /usr/local/lib/python3.6/dist-packages (from requests-oauthlib>=0.7.0->google-auth-oauthlib<0.5,>=0.4.1->tensorboard->pytorchts) (3.1.0)\n",
            "Requirement already satisfied: zipp>=0.5 in /usr/local/lib/python3.6/dist-packages (from importlib-metadata; python_version < \"3.8\"->markdown>=2.6.8->tensorboard->pytorchts) (3.4.0)\n",
            "Requirement already satisfied: pyasn1<0.5.0,>=0.4.6 in /usr/local/lib/python3.6/dist-packages (from pyasn1-modules>=0.2.1->google-auth<2,>=1.6.3->tensorboard->pytorchts) (0.4.8)\n",
            "Building wheels for collected packages: pytorchts\n",
            "  Building wheel for pytorchts (setup.py) ... \u001b[?25l\u001b[?25hdone\n",
            "  Created wheel for pytorchts: filename=pytorchts-0.2.0-cp36-none-any.whl size=160984 sha256=42c1d98437121b8a1d47acd8306f2e8bfd4217bac3131293bfd4e20f1afb9ff8\n",
            "  Stored in directory: /root/.cache/pip/wheels/12/ee/34/9834a5114abdb5a1ae388b778b29847380e093e16de7f172d8\n",
            "Successfully built pytorchts\n",
            "\u001b[31mERROR: google-colab 1.0.0 has requirement pandas~=1.1.0; python_version >= \"3.0\", but you'll have pandas 1.0.5 which is incompatible.\u001b[0m\n",
            "Installing collected packages: pandas, pydantic, python-rapidjson, pytorchts\n",
            "  Found existing installation: pandas 1.1.5\n",
            "    Uninstalling pandas-1.1.5:\n",
            "      Successfully uninstalled pandas-1.1.5\n",
            "Successfully installed pandas-1.0.5 pydantic-1.7.3 python-rapidjson-1.0 pytorchts-0.2.0\n"
          ],
          "name": "stdout"
        },
        {
          "output_type": "display_data",
          "data": {
            "application/vnd.colab-display-data+json": {
              "pip_warning": {
                "packages": [
                  "pandas"
                ]
              }
            }
          },
          "metadata": {
            "tags": []
          }
        }
      ]
    },
    {
      "cell_type": "code",
      "metadata": {
        "id": "nGRKmXXdk5X-"
      },
      "source": [
        "import matplotlib.pyplot as plt\r\n",
        "import pandas as pd\r\n",
        "import torch\r\n",
        "\r\n",
        "from pts.dataset import ListDataset\r\n",
        "from pts.model.deepar import DeepAREstimator\r\n",
        "from pts import Trainer\r\n",
        "from pts.dataset import to_pandas"
      ],
      "execution_count": 1,
      "outputs": []
    },
    {
      "cell_type": "code",
      "metadata": {
        "colab": {
          "base_uri": "https://localhost:8080/",
          "height": 235
        },
        "id": "4JKU3tqzlCXq",
        "outputId": "7ec3725e-5caf-44c2-9a45-3aa824efd559"
      },
      "source": [
        "url = \"https://raw.githubusercontent.com/numenta/NAB/master/data/realTweets/Twitter_volume_AMZN.csv\"\r\n",
        "df = pd.read_csv(url, header=0, index_col=0, parse_dates=True)\r\n",
        "df.head()"
      ],
      "execution_count": 2,
      "outputs": [
        {
          "output_type": "execute_result",
          "data": {
            "text/html": [
              "<div>\n",
              "<style scoped>\n",
              "    .dataframe tbody tr th:only-of-type {\n",
              "        vertical-align: middle;\n",
              "    }\n",
              "\n",
              "    .dataframe tbody tr th {\n",
              "        vertical-align: top;\n",
              "    }\n",
              "\n",
              "    .dataframe thead th {\n",
              "        text-align: right;\n",
              "    }\n",
              "</style>\n",
              "<table border=\"1\" class=\"dataframe\">\n",
              "  <thead>\n",
              "    <tr style=\"text-align: right;\">\n",
              "      <th></th>\n",
              "      <th>value</th>\n",
              "    </tr>\n",
              "    <tr>\n",
              "      <th>timestamp</th>\n",
              "      <th></th>\n",
              "    </tr>\n",
              "  </thead>\n",
              "  <tbody>\n",
              "    <tr>\n",
              "      <th>2015-02-26 21:42:53</th>\n",
              "      <td>57</td>\n",
              "    </tr>\n",
              "    <tr>\n",
              "      <th>2015-02-26 21:47:53</th>\n",
              "      <td>43</td>\n",
              "    </tr>\n",
              "    <tr>\n",
              "      <th>2015-02-26 21:52:53</th>\n",
              "      <td>55</td>\n",
              "    </tr>\n",
              "    <tr>\n",
              "      <th>2015-02-26 21:57:53</th>\n",
              "      <td>64</td>\n",
              "    </tr>\n",
              "    <tr>\n",
              "      <th>2015-02-26 22:02:53</th>\n",
              "      <td>93</td>\n",
              "    </tr>\n",
              "  </tbody>\n",
              "</table>\n",
              "</div>"
            ],
            "text/plain": [
              "                     value\n",
              "timestamp                 \n",
              "2015-02-26 21:42:53     57\n",
              "2015-02-26 21:47:53     43\n",
              "2015-02-26 21:52:53     55\n",
              "2015-02-26 21:57:53     64\n",
              "2015-02-26 22:02:53     93"
            ]
          },
          "metadata": {
            "tags": []
          },
          "execution_count": 2
        }
      ]
    },
    {
      "cell_type": "code",
      "metadata": {
        "colab": {
          "base_uri": "https://localhost:8080/",
          "height": 279
        },
        "id": "clwpRjeYlGmf",
        "outputId": "1f6eb718-a33e-4083-9704-13cb57f9b2ca"
      },
      "source": [
        "df[:100].plot(linewidth=2)\r\n",
        "plt.grid(which='both')\r\n",
        "plt.show()"
      ],
      "execution_count": 3,
      "outputs": [
        {
          "output_type": "display_data",
          "data": {
            "image/png": "[encoded data removed]",
            "text/plain": [
              "<Figure size 432x288 with 1 Axes>"
            ]
          },
          "metadata": {
            "tags": [],
            "needs_background": "light"
          }
        }
      ]
    },
    {
      "cell_type": "code",
      "metadata": {
        "id": "jTIYIKyClTam"
      },
      "source": [
        "training_data = ListDataset(\r\n",
        "    [{\"start\": df.index[0], \"target\": df.value[:\"2015-04-05 00:00:00\"]}],\r\n",
        "    freq = \"5min\"\r\n",
        ")"
      ],
      "execution_count": 5,
      "outputs": []
    },
    {
      "cell_type": "code",
      "metadata": {
        "colab": {
          "base_uri": "https://localhost:8080/"
        },
        "id": "UAJMn7XVlIRJ",
        "outputId": "5f85cef4-ddb0-473e-8928-dd3de3ed3efb"
      },
      "source": [
        "device = torch.device(\"cuda\" if torch.cuda.is_available() else \"cpu\")\r\n",
        "\r\n",
        "estimator = DeepAREstimator(freq=\"5min\",\r\n",
        "                            prediction_length=12,\r\n",
        "                            input_size=43,\r\n",
        "                            trainer=Trainer(epochs=15,\r\n",
        "                                            device=device))\r\n",
        "predictor = estimator.train(training_data=training_data)"
      ],
      "execution_count": 6,
      "outputs": [
        {
          "output_type": "stream",
          "text": [
            "48it [00:09,  5.22it/s, avg_epoch_loss=4.75, epoch=0]\n",
            "48it [00:05,  8.98it/s, avg_epoch_loss=4.26, epoch=1]\n",
            "49it [00:05,  9.19it/s, avg_epoch_loss=4.16, epoch=2]\n",
            "47it [00:05,  8.61it/s, avg_epoch_loss=4.12, epoch=3]\n",
            "49it [00:05,  9.10it/s, avg_epoch_loss=4.09, epoch=4]\n",
            "49it [00:05,  9.22it/s, avg_epoch_loss=4.06, epoch=5]\n",
            "49it [00:05,  9.02it/s, avg_epoch_loss=4.04, epoch=6]\n",
            "49it [00:05,  9.41it/s, avg_epoch_loss=4.02, epoch=7]\n",
            "49it [00:05,  9.53it/s, avg_epoch_loss=4, epoch=8]\n",
            "49it [00:05,  8.99it/s, avg_epoch_loss=3.99, epoch=9]\n",
            "48it [00:05,  8.76it/s, avg_epoch_loss=3.98, epoch=10]\n",
            "48it [00:05,  8.97it/s, avg_epoch_loss=3.98, epoch=11]\n",
            "47it [00:05,  9.12it/s, avg_epoch_loss=3.97, epoch=12]\n",
            "48it [00:05,  9.18it/s, avg_epoch_loss=3.97, epoch=13]\n",
            "48it [00:05,  9.38it/s, avg_epoch_loss=3.96, epoch=14]\n"
          ],
          "name": "stderr"
        }
      ]
    },
    {
      "cell_type": "code",
      "metadata": {
        "id": "Uz7NO0fDlQP_"
      },
      "source": [
        "test_data = ListDataset(\r\n",
        "    [{\"start\": df.index[0], \"target\": df.value[:\"2015-04-15 00:00:00\"]}],\r\n",
        "    freq = \"5min\"\r\n",
        ")"
      ],
      "execution_count": 7,
      "outputs": []
    },
    {
      "cell_type": "code",
      "metadata": {
        "colab": {
          "base_uri": "https://localhost:8080/",
          "height": 277
        },
        "id": "PCzq27TklX5f",
        "outputId": "9690cc83-c2fc-4df4-cb71-b936beb8d6ff"
      },
      "source": [
        "for test_entry, forecast in zip(test_data, predictor.predict(test_data)):\r\n",
        "    to_pandas(test_entry)[-60:].plot(linewidth=2)\r\n",
        "    forecast.plot(color='b', prediction_intervals=[50.0, 90.0])\r\n",
        "plt.grid(which='both')"
      ],
      "execution_count": 8,
      "outputs": [
        {
          "output_type": "display_data",
          "data": {
            "image/png": "[encoded data removed]",
            "text/plain": [
              "<Figure size 432x288 with 1 Axes>"
            ]
          },
          "metadata": {
            "tags": [],
            "needs_background": "light"
          }
        }
      ]
    },
    {
      "cell_type": "code",
      "metadata": {
        "id": "eo6CphT1ldcJ"
      },
      "source": [
        ""
      ],
      "execution_count": null,
      "outputs": []
    }
  ]
}